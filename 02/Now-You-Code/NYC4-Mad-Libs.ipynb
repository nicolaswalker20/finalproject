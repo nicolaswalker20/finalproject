{
 "cells": [
  {
   "cell_type": "markdown",
   "metadata": {},
   "source": [
    "# Now You Code 4: Mad Libs!\n",
    "\n",
    "Write a Python program which creates your own unique Mad-Libs! story.\n",
    "\n",
    "If you are not familar with a Mad-Libs! story, check out:\n",
    "http://www.madlibs.com and http://www.madtakes.com\n",
    "\n",
    "Your story should take at least 5 inputs, and should include more than\n",
    "once sentence. \n"
   ]
  },
  {
   "cell_type": "markdown",
   "metadata": {
    "collapsed": true
   },
   "source": [
    "## Step 1: Problem Analysis\n",
    "\n",
    "Inputs:\n",
    "1. Enter a first name\n",
    "2. Enter a hobby\n",
    "3. Enter hometown\n",
    "4. Enter a season\n",
    "5. Enter an adjective\n",
    "\n",
    "Outputs:\n",
    " 1. \"I am <first_name>, and I like to <hobby> when I am home in <hometown> in the <season>. It is so <adjective>.\"\n",
    "\n",
    "Algorithm (Steps in Program):\n",
    "\n",
    "1. input name\n",
    "2. input hoby\n",
    "3. input hometown\n",
    "4. input season\n",
    "5. input adj\n",
    "6. print I am <name> and i like to <hobby> when i am home in <hometown> in the <season> it is so <adjective>."
   ]
  },
  {
   "cell_type": "code",
   "execution_count": null,
   "metadata": {},
   "outputs": [],
   "source": [
    "first_name = input(\"Enter your first name: \")\n",
    "hobby = input(\"Enter your favorite hobby: \")\n",
    "hometown = input(\"Enter your hometown: \")\n",
    "season = input(\"Enter your favorite season of the year: \")\n",
    "adjective = input(\"How do you feel when you do \"+ hobby +\"?\")\n",
    "print(\"I am\"+ first_name + \"and I like to\"+ hobby + \"when I am home in\"+ hometown +\"in the\"+ season + \". It is so\"+ adjective )\n",
    "\n",
    "\n",
    "\n",
    "\n"
   ]
  },
  {
   "cell_type": "markdown",
   "metadata": {},
   "source": [
    "## Step 3: Questions\n",
    "\n",
    "1. What happens when neglect to follow the instructions and enter any inputs we desire? Does the code still run? Why?\n",
    "2. What type of error occurs when the program runs but does not handle bad input?\n",
    "3. Is there anything you can do in code to correct this type of error? Why or why not?"
   ]
  },
  {
   "cell_type": "markdown",
   "metadata": {},
   "source": [
    "## Reminder of Evaluation Criteria\n",
    "\n",
    "1. What the problem attempted (analysis, code, and answered questions) ?\n",
    "2. What the problem analysis thought out? (does the program match the plan?)\n",
    "3. Does the code execute without syntax error?\n",
    "4. Does the code solve the intended problem?\n",
    "5. Is the code well written? (easy to understand, modular, and self-documenting, handles errors)\n"
   ]
  },
  {
   "cell_type": "code",
   "execution_count": null,
   "metadata": {
    "collapsed": true
   },
   "outputs": [],
   "source": [
    "Yes it would still run because the code isnt specific enough. Giving the user an option to choose from would limit what the user inputs. Ther may be other ways to make sure they enter the inputs we desire. Otherwise the machine can spit out whatever the user enters. \n",
    "A syntax error\n",
    "Yes, read above. "
   ]
  }
 ],
 "metadata": {
  "anaconda-cloud": {},
  "kernelspec": {
   "display_name": "Python 3",
   "language": "python",
   "name": "python3"
  },
  "language_info": {
   "codemirror_mode": {
    "name": "ipython",
    "version": 3
   },
   "file_extension": ".py",
   "mimetype": "text/x-python",
   "name": "python",
   "nbconvert_exporter": "python",
   "pygments_lexer": "ipython3",
   "version": "3.6.6"
  }
 },
 "nbformat": 4,
 "nbformat_minor": 1
}
