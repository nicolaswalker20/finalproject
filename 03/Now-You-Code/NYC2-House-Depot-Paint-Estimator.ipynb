{
 "cells": [
  {
   "cell_type": "markdown",
   "metadata": {},
   "source": [
    "# Now You Code 2: House Depot Paint Estimator\n",
    "\n",
    "The big-box hardware store *House Depot* as contracted you to write an App to estimate the amount of paint required to paint a room. Given that 1 gallon of paint covers 400 square feet, you must output the number of paint cans required to paint a rectangular room.\n",
    "\n",
    "The program should input:\n",
    "\n",
    "- the length of the room in feet, \n",
    "- the width of the room in feet,\n",
    "- the height of the room in feet\n",
    "\n",
    "The program should output:\n",
    "\n",
    "- total area to be painted ( sum of each of the 4 walls)\n",
    "- the number of gallons of paint required to paint the room.\n",
    "\n",
    "Example:\n",
    "\n",
    "```\n",
    "Enter length of room: 12\n",
    "Enter width of room: 14\n",
    "Enter height of room: 8\n",
    "Total area to be painted: 416.00\n",
    "Total gallons of paint requried: 2\n",
    "```\n",
    "\n",
    "HINT: Use the `math.ceil()` function to round your number of gallons up to the nearest whole number \n"
   ]
  },
  {
   "cell_type": "markdown",
   "metadata": {},
   "source": [
    "## Step 1: Problem Analysis\n",
    "\n",
    "Inputs:\n",
    "\n",
    "Outputs:\n",
    "\n",
    "Algorithm (Steps in Program):\n",
    "\n",
    "\n"
   ]
  },
  {
   "cell_type": "code",
   "execution_count": 1,
   "metadata": {},
   "outputs": [
    {
     "ename": "SyntaxError",
     "evalue": "invalid syntax (<ipython-input-1-94637959637f>, line 1)",
     "output_type": "error",
     "traceback": [
      "\u001b[0;36m  File \u001b[0;32m\"<ipython-input-1-94637959637f>\"\u001b[0;36m, line \u001b[0;32m1\u001b[0m\n\u001b[0;31m    Inputs:\u001b[0m\n\u001b[0m           ^\u001b[0m\n\u001b[0;31mSyntaxError\u001b[0m\u001b[0;31m:\u001b[0m invalid syntax\n"
     ]
    }
   ],
   "source": [
    "Inputs:\n",
    "    length of the room in feet (such as 25 feet)\n",
    "    the width of the room in feet (such as 70 feet)\n",
    "    the height of the room in feet(such as 100 feet)\n",
    "\n",
    "Outputs:\n",
    "    Total area to be painted(length x width x height)\n",
    "    the number of gallons of paint required to paint to room\n",
    "    \n",
    "length = int(input(\"enter the length of the room\"))\n",
    "width = int(input(\"enter the width of the room\"))\n",
    "height = int(input(\"enter the height of the room\"))\n",
    "total_area_painted = (length * width * height)\n",
    "print(total_area_painted, \"is the total area to be painted\")\n",
    "math.ceil(total_area_painted)"
   ]
  },
  {
   "cell_type": "markdown",
   "metadata": {},
   "source": [
    "## Step 3: Questions\n",
    "\n",
    "1. Why does the program still run when you enter a negative number for length?\n",
    "2. Does the output make sense when you enter a negative length? Why type of error is this?\n",
    "3. Why do we use `math.ceil()` in this program? In other words are you allowed to buy 3.75 gallons of paint?\n"
   ]
  },
  {
   "cell_type": "code",
   "execution_count": 2,
   "metadata": {},
   "outputs": [
    {
     "ename": "SyntaxError",
     "evalue": "invalid syntax (<ipython-input-2-1286a3f6a5ad>, line 3)",
     "output_type": "error",
     "traceback": [
      "\u001b[0;36m  File \u001b[0;32m\"<ipython-input-2-1286a3f6a5ad>\"\u001b[0;36m, line \u001b[0;32m3\u001b[0m\n\u001b[0;31m    1. What the problem attempted (analysis, code, and answered questions) ?\u001b[0m\n\u001b[0m          ^\u001b[0m\n\u001b[0;31mSyntaxError\u001b[0m\u001b[0;31m:\u001b[0m invalid syntax\n"
     ]
    }
   ],
   "source": [
    "1. What the problem attempted (analysis, code, and answered questions) ?\n",
    "The problem attempted to output the number of gallons needed to paint the room based on the dimensions of the room thatthe user inputs.\n",
    "\n",
    "2. What the problem analysis thought out? (does the program match the plan?)\n",
    "The program matches the plan step by step. the inputs and then outputs. \n",
    "\n",
    "3. Does the code execute without syntax error?\n",
    "NO it wont execute for some reason. I am trying to figure out why. \n",
    "\n",
    "4. Does the code solve the intended problem?\n",
    "Yes the code is supposed to solve the intended problem. \n",
    "\n",
    "5. Is the code well written? (easy to understand, modular, and self-documenting, handles errors)\n",
    "Yes it is well written and should be understood by anyone else who knows code. \n"
   ]
  },
  {
   "cell_type": "code",
   "execution_count": null,
   "metadata": {
    "collapsed": true
   },
   "outputs": [],
   "source": [
    "Yes the code will still run unless its specififed that the input should be 1<\n",
    "No the output would not make sense to a human if we used a negative number. \n",
    "I am not exactly sure what the math.ciel does. "
   ]
  }
 ],
 "metadata": {
  "anaconda-cloud": {},
  "kernelspec": {
   "display_name": "Python 3",
   "language": "python",
   "name": "python3"
  },
  "language_info": {
   "codemirror_mode": {
    "name": "ipython",
    "version": 3
   },
   "file_extension": ".py",
   "mimetype": "text/x-python",
   "name": "python",
   "nbconvert_exporter": "python",
   "pygments_lexer": "ipython3",
   "version": "3.6.6"
  }
 },
 "nbformat": 4,
 "nbformat_minor": 1
}
