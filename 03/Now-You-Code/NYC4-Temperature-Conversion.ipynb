{
 "cells": [
  {
   "cell_type": "markdown",
   "metadata": {},
   "source": [
    "# Now You Code 4: Temperature Conversion\n",
    "\n",
    "Write a python program which will convert temperatures from Celcius to Fahrenheight.\n",
    "The program should take a temperature in degrees Celcius as input and output a temperature in degrees Fahrenheight.\n",
    "\n",
    "Example:\n",
    "\n",
    "```\n",
    "Enter the temperature in Celcius: 100\n",
    "100 Celcius is 212 Fahrenheight\n",
    "```\n",
    "\n",
    "HINT: Use the web to find the formula to convert from Celcius to Fahrenheight.\n"
   ]
  },
  {
   "cell_type": "markdown",
   "metadata": {},
   "source": [
    "## Step 1: Problem Analysis\n",
    "\n",
    "Inputs:\n",
    "\n",
    "input celcius\n",
    "\n",
    "Outputs:\n",
    "\n",
    "output fahrenheight\n",
    "\n",
    "Algorithm (Steps in Program):\n",
    "\n",
    "enter_celcius = int(input(\"enter the temperature in celcius: \")\n",
    "conversion = ( enter_celcius - 32)\n",
    "fahrenheight = (\"The fahrenheight is\", conversion, \"!\")\n",
    "\n"
   ]
  },
  {
   "cell_type": "code",
   "execution_count": 14,
   "metadata": {},
   "outputs": [
    {
     "ename": "SyntaxError",
     "evalue": "invalid syntax (<ipython-input-14-61c15dcfb27a>, line 2)",
     "output_type": "error",
     "traceback": [
      "\u001b[0;36m  File \u001b[0;32m\"<ipython-input-14-61c15dcfb27a>\"\u001b[0;36m, line \u001b[0;32m2\u001b[0m\n\u001b[0;31m    conversion = int(enter_celcius - 32)/.5666\u001b[0m\n\u001b[0m             ^\u001b[0m\n\u001b[0;31mSyntaxError\u001b[0m\u001b[0;31m:\u001b[0m invalid syntax\n"
     ]
    }
   ],
   "source": [
    "enter_celcius = int(input(\"enter the temperature in celcius: \")\n",
    "conversion = (enter_celcius - 32)/.5666\n",
    "fahrenheight = (\"The fahrenheight is\", conversion, \"!\")"
   ]
  },
  {
   "cell_type": "markdown",
   "metadata": {},
   "source": [
    "## Step 3: Questions\n",
    "\n",
    "1. Why does the program still run when you enter a negative number for temperature? Is this an error?\n",
    "The program will still run if its a negative number because we only specify that its an integer for the input.\n",
    "2. Would it be difficult to write a program which did the opposite (conversion F to C)? Explain.\n",
    "NO not really, all it would take is changing the formula. This wouldnt be very hard. \n",
    "3. Did you store the conversion in a variable before printing it on the last line? I argue this makes your program easier to understand. Why?ater we can easily access\n",
    "Yes i stored it as a variable. If we need this variable for later it would be beneficial to store it as a variable before printing it\n"
   ]
  },
  {
   "cell_type": "markdown",
   "metadata": {},
   "source": [
    "## Reminder of Evaluation Criteria\n",
    "\n",
    "1. What the problem attempted (analysis, code, and answered questions) ?\n",
    "2. What the problem analysis thought out? (does the program match the plan?)\n",
    "3. Does the code execute without syntax error?\n",
    "4. Does the code solve the intended problem?\n",
    "5. Is the code well written? (easy to understand, modular, and self-documenting, handles errors)\n"
   ]
  },
  {
   "cell_type": "code",
   "execution_count": null,
   "metadata": {
    "collapsed": true
   },
   "outputs": [],
   "source": [
    "The program will still run if its a negative number because we only specify that its an integer for the input. "
   ]
  }
 ],
 "metadata": {
  "anaconda-cloud": {},
  "kernelspec": {
   "display_name": "Python 3",
   "language": "python",
   "name": "python3"
  },
  "language_info": {
   "codemirror_mode": {
    "name": "ipython",
    "version": 3
   },
   "file_extension": ".py",
   "mimetype": "text/x-python",
   "name": "python",
   "nbconvert_exporter": "python",
   "pygments_lexer": "ipython3",
   "version": "3.6.6"
  }
 },
 "nbformat": 4,
 "nbformat_minor": 1
}
