{
 "cells": [
  {
   "cell_type": "markdown",
   "metadata": {},
   "source": [
    "# Now You Code 3: Final Grade in IST256\n",
    "\n",
    "# Part 1\n",
    "\n",
    "Our Course Syllabus has a grading scale here:\n",
    "\n",
    "http://ist256.syr.edu/syllabus/#grading-scale\n",
    "\n",
    "Write a Python program to input a number of points earned out of 600 and then\n",
    "outputs the registrar letter grade. \n",
    "\n",
    "For example:\n",
    "\n",
    "    IST256 Grade Calculator\n",
    "    Enter total points out of 600:  550\n",
    "    Grade: A- \n"
   ]
  },
  {
   "cell_type": "markdown",
   "metadata": {
    "collapsed": true
   },
   "source": [
    "## Step 1: Problem Analysis\n",
    "\n",
    "Inputs:\n",
    "\n",
    "Enter total points out of 600:\n",
    "\n",
    "\n",
    "\n",
    "Outputs:\n",
    "\n",
    "If between 570-600 : output = Your grade is A\n",
    "If between 540-569 : output = Your grade is A-\n",
    "If between 510-539 : output = Your grade is B+\n",
    "If between 480-509 : output = Your grade is B\n",
    "If between 450-479 : output = Your grade is B-\n",
    "If between 420-449 : output = Your grade is C+\n",
    "If between 390-419 : output = Your grade is C\n",
    "If between 360-389 : output = Your grade is C-\n",
    "If between 300-359 : output = Your grade is D\n",
    "If between 0-299 : output = Your grade is F\n",
    "\n",
    "\n",
    "Algorithm (Steps in Program):\n",
    "\n",
    "Input statement for grade\n",
    "If statement for inputs between 570-600\n",
    "If statement for inputs between 540-569 \n",
    "If statement for inputs between 510-539 \n",
    "If statement for inputs between 480-509 \n",
    "If statement for inputs between 450-479 \n",
    "If statement for inputs between 420-449 \n",
    "If statement for inputs between 390-419 \n",
    "If statement for inputs between 360-389 \n",
    "If statement for inputs between 300-359 \n",
    "If statement for inputs between 0-299 \n",
    "\n",
    "\n",
    "\n",
    "\n"
   ]
  },
  {
   "cell_type": "code",
   "execution_count": 6,
   "metadata": {},
   "outputs": [
    {
     "name": "stdout",
     "output_type": "stream",
     "text": [
      "ist 256 grade calculator!!!\n",
      "Put in your total points out of 600: 500\n",
      "B\n"
     ]
    }
   ],
   "source": [
    "print(\"ist 256 grade calculator!!!\")\n",
    "thegrade = int(input(\"Put in your total points out of 600: \"))\n",
    "\n",
    "if thegrade in range(0,600):\n",
    "\n",
    "    if (thegrade >= 570 <= 600):\n",
    "            print(\"A\")\n",
    "    elif (thegrade >=540 <= 569):\n",
    "            print(\"A-\")\n",
    "    elif (thegrade >=510 <= 539):\n",
    "            print(\"B+\")\n",
    "    elif (thegrade >=480 <= 509):\n",
    "            print(\"B\")\n",
    "    elif (thegrade >=450 <= 479):\n",
    "            print(\"B-\")\n",
    "    elif (thegrade >=420 <= 449):\n",
    "            print(\"C+\")\n",
    "    elif (thegrade >= 390 <= 419):\n",
    "            print(\"C\")\n",
    "    elif (thegrade >= 360 <= 389):\n",
    "            print(\"C-\")\n",
    "    elif (thegrade >= 300 <= 359):\n",
    "            print(\"D\")\n",
    "    elif (thegrade >=0 <= 299):\n",
    "            print(\"F\")\n",
    "else:\n",
    "    print(\"enter a valid number between 0 and 600\")\n",
    "                  \n",
    "\n",
    "\n"
   ]
  },
  {
   "cell_type": "code",
   "execution_count": null,
   "metadata": {},
   "outputs": [],
   "source": [
    "# Part 2\n",
    "\n",
    "Now that you got it working,  re-write your code to handle bad input. Specifically:\n",
    "\n",
    "\n",
    "- non integer values\n",
    "- integer values outside the 0 to 600 range.\n",
    "\n",
    "**Note:** Exception handling is not part of our algorithm. It's a programming concern, not a problem-solving concern!"
   ]
  },
  {
   "cell_type": "code",
   "execution_count": 1,
   "metadata": {},
   "outputs": [],
   "source": [
    "## Step 2 (again): write code again but handle errors with try...except\n",
    "\n",
    "I did this in the section above^^^"
   ]
  },
  {
   "cell_type": "markdown",
   "metadata": {},
   "source": [
    "## Step 3: Questions\n",
    "\n",
    "1. What specific Python Error are we handling (please provide the name of it)?\n",
    "value error\n",
    "2. How many times must you execute this program and check the output before you canbe reasonably assured your code is correct? Explain.\n",
    "we should run this for every grade. so 11 times total, including the else statement\n",
    "3. When testing this program do you think its more important to test numbers in the middle of the grade range or exactly on the boundary between one grade range and the next. Justify your response.\n",
    "on the boundry of the range to make sure we got the symbols right(greater than, less than, equal to). "
   ]
  },
  {
   "cell_type": "markdown",
   "metadata": {},
   "source": [
    "## Reminder of Evaluation Criteria\n",
    "\n",
    "1. What the problem attempted (analysis, code, and answered questions) ?\n",
    "2. What the problem analysis thought out? (does the program match the plan?)\n",
    "3. Does the code execute without syntax error?\n",
    "4. Does the code solve the intended problem?\n",
    "5. Is the code well written? (easy to understand, modular, and self-documenting, handles errors)\n"
   ]
  }
 ],
 "metadata": {
  "anaconda-cloud": {},
  "kernelspec": {
   "display_name": "Python 3",
   "language": "python",
   "name": "python3"
  },
  "language_info": {
   "codemirror_mode": {
    "name": "ipython",
    "version": 3
   },
   "file_extension": ".py",
   "mimetype": "text/x-python",
   "name": "python",
   "nbconvert_exporter": "python",
   "pygments_lexer": "ipython3",
   "version": "3.6.6"
  }
 },
 "nbformat": 4,
 "nbformat_minor": 1
}
