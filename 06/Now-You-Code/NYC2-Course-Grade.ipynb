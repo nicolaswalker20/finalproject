{
 "cells": [
  {
   "cell_type": "markdown",
   "metadata": {},
   "source": [
    "# Now You Code 2: Course Grade\n",
    "\n",
    "In a previous homework you wrote a program to calculate the final grade letter grade in IST256 when given the total points out of 600.\n",
    "\n",
    "The code appears below. Feel free to execute this code a few times in order to get a feel for how it works."
   ]
  },
  {
   "cell_type": "code",
   "execution_count": 1,
   "metadata": {},
   "outputs": [
    {
     "name": "stdout",
     "output_type": "stream",
     "text": [
      "IST256 Grade Calculator\n",
      "Enter total points out of 600:600\n",
      "Grade: A\n"
     ]
    }
   ],
   "source": [
    "print(\"IST256 Grade Calculator\")\n",
    "points = int(input(\"Enter total points out of 600:\"))\n",
    "if points >= 570:\n",
    "    grade = \"A\"\n",
    "elif points >= 540:\n",
    "    grade = \"A-\"\n",
    "elif points >= 510:\n",
    "    grade = \"B+\"\n",
    "elif points >= 480:\n",
    "    grade = \"B\"\n",
    "elif points >= 450:\n",
    "    grade = \"B-\"\n",
    "elif points >= 420:\n",
    "    grade = \"C+\"\n",
    "elif points >= 390:\n",
    "    grade = \"C\"\n",
    "elif points >= 360:\n",
    "    grade = \"C-\"\n",
    "elif points >= 300:\n",
    "    grade = \"D\"\n",
    "else:\n",
    "    grade = \"F\"\n",
    "\n",
    "print(\"Grade:\", grade) \n"
   ]
  },
  {
   "cell_type": "markdown",
   "metadata": {},
   "source": [
    "# Write - Refactor - Test - Rewrite Approach\n",
    "\n",
    "The best way to get good at writing functions, a skill you will need to master to become a respectable programmer, is to use the **Write - Refactor - Test - Rewrite** approach. In this approch we:\n",
    "\n",
    "1. Write our code\n",
    "2. Refactor it into a function\n",
    "3. Test the function to make sure it works as expected\n",
    "4. Rewrite our code to call our new function\n",
    "\n",
    "## Step 1: Write code\n",
    "\n",
    "The program has been written for you above. Your goal is to refactor it into a function, test the function then re-write the code.\n",
    "\n",
    "## Step 2: Refactor Into a function\n",
    "\n",
    "One reason to re-factor code into a function is to simplify our code. It's easier to understand `GetGrade()` as opposed to all of those `if ..elif` statements which make up `GetGrade` itself.\n",
    "\n",
    "Now re-factor the code into a user-defined Python function. The name of the function should be `GetGrade()`. The function should take a number of points as input and return the appropriate letter grade based on those points. \n",
    "\n",
    "**NOTE:** There should not be any `print()` or `input()` statements in your function!\n"
   ]
  },
  {
   "cell_type": "code",
   "execution_count": 2,
   "metadata": {},
   "outputs": [],
   "source": [
    "## Step 2: Todo Write function defintion\n",
    "## Function: GetGrade\n",
    "## Arguments: points (eg. 540)\n",
    "## Returns: grade (A, B+ etc...)\n",
    "\n",
    "#TODO: Write function definition here\n",
    "print(\"ist256 calculator\")\n",
    "points = int(input(\"enter your total points out of 600\"))\n",
    "\n",
    "def GetGrade(points)z\n",
    "    if points >= 570:\n",
    "        return \"A\"\n",
    "    elif points >= 540:\n",
    "        return \"A-\"\n",
    "    elif points >= 510:\n",
    "        return \"B+\"\n",
    "    elif points >= 480:\n",
    "        return \"B\"\n",
    "    elif points >= 450:\n",
    "        return \"B-\"\n",
    "    elif points >= 420:\n",
    "        return \"C+\"\n",
    "    elif points >= 390:\n",
    "        return \"C\"\n",
    "    elif points >= 360:\n",
    "        return \"C-\"\n",
    "    elif points >= 300:\n",
    "        return \"D\"\n",
    "    else:\n",
    "        return \"F\"\n",
    "result = GetGrade(points)\n",
    "print(\"Grade: \", result)\n",
    "    "
   ]
  },
  {
   "cell_type": "markdown",
   "metadata": {},
   "source": [
    "## Step 3: Test our function\n",
    "\n",
    "With the function complete, we need to test our function. The simplest way to do that is call the function with inputs we expect and verify the output. For example:\n",
    "\n",
    "```\n",
    "WHEN point='570' We EXPECT GetGrade(points) to return A \n",
    "WHEN points='540' We EXPECT GetGrade(points) to return A- \n",
    "```\n",
    "\n",
    "The first two are written for you but you will need to write the remaining tests to tests all the cases. As a general rule, there should be one test for each kind of output (in this case A through F). You only need to test at the boundaires. No need to test every single value between 0 and 600. "
   ]
  },
  {
   "cell_type": "code",
   "execution_count": null,
   "metadata": {},
   "outputs": [],
   "source": [
    "# Step 3: Write tests. The first two tests were written for you. You must write the rest\n",
    "\n",
    "print(\"WHEN point='570' We EXPECT GetGrade(points) to return A ACTUAL:\", GetGrade(570))\n",
    "print(\"WHEN point='540' We EXPECT GetGrade(points) to return A- ACTUAL:\", GetGrade(540))\n",
    "print(\"WHEN point= '510' We EXPECT GetGrade(points) to return B+ ACTUAL:\", GetGrade(510))\n",
    "print(\"WHEN point='480' We EXPECT GetGrade(points) to return B ACTUAL:\", GetGrade(480))\n",
    "print(\"WHEN point='450' We EXPECT GetGrade(points) to return B- ACTUAL:\", GetGrade(450))\n",
    "print(\"WHEN point='420' We EXPECT GetGrade(points) to return C+ ACTUAL:\", GetGrade(420))\n",
    "print(\"WHEN point='390' We EXPECT GetGrade(points) to return C ACTUAL:\", GetGrade(390))\n",
    "print(\"WHEN point='360' We EXPECT GetGrade(points) to return C- ACTUAL:\", GetGrade(360))\n",
    "print(\"WHEN point='300' We EXPECT GetGrade(points) to return D ACTUAL:\", GetGrade(300))\n",
    "print(\"WHEN point <=300 We EXPECT GetGrade(points) to return F ACTUAL:\", GetGrade(300))"
   ]
  },
  {
   "cell_type": "code",
   "execution_count": null,
   "metadata": {},
   "outputs": [],
   "source": [
    "## Step 4: rewrite the program to use the function\n",
    "\n",
    "Finally re-write the original program, with a twist. Follow this algorithm\n",
    "\n",
    "```\n",
    "loop\n",
    "    input\n",
    "    if text equals 'quit'\n",
    "        break\n",
    "    points = int\n",
    "GetGrade(points) \n",
    "    print grade\n",
    "```"
   ]
  },
  {
   "cell_type": "code",
   "execution_count": 4,
   "metadata": {},
   "outputs": [],
   "source": [
    "## Step 4: Write program here from the algorithm above\n"
   ]
  },
  {
   "cell_type": "markdown",
   "metadata": {},
   "source": [
    "## Step 6: Questions\n",
    "\n",
    "1. Provide 3 advantages for programming a user function in your code like `GetGrade` \n",
    "2. If we want to guarantee our `GetGrade` function is 100% accurate, what is the minimum number of test cases must we provide in step 3?\n",
    "3. How many times is the `GetGrade` function called in the sample run provided? How many times was it called in step 3?\n"
   ]
  },
  {
   "cell_type": "code",
   "execution_count": null,
   "metadata": {},
   "outputs": [],
   "source": [
    "## Reminder of Evaluation Criteria\n",
    "\n",
    "1. What the problem attempted (analysis, code, and answered questions) ?\n",
    "2. What the problem analysis thought out? (does the program match the plan?)\n",
    "3. Does the code execute without syntax error?\n",
    "4. Does the code solve the intended problem?\n",
    "5. Is the code well written? (easy to understand, modular, and self-documenting, handles errors)\n"
   ]
  },
  {
   "cell_type": "code",
   "execution_count": null,
   "metadata": {
    "collapsed": true
   },
   "outputs": [],
   "source": [
    "You can use GetGrade anywhere. You can call on it at anytime and use it to your benefit. \n",
    "We must do as many test cases as possible. It should account for all of the if, else,  and elif statements to cover all the bases"
   ]
  }
 ],
 "metadata": {
  "anaconda-cloud": {},
  "kernelspec": {
   "display_name": "Python 3",
   "language": "python",
   "name": "python3"
  },
  "language_info": {
   "codemirror_mode": {
    "name": "ipython",
    "version": 3
   },
   "file_extension": ".py",
   "mimetype": "text/x-python",
   "name": "python",
   "nbconvert_exporter": "python",
   "pygments_lexer": "ipython3",
   "version": "3.6.6"
  }
 },
 "nbformat": 4,
 "nbformat_minor": 1
}
