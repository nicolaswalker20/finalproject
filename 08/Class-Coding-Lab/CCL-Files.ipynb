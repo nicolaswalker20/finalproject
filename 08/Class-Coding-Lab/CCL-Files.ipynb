{
 "cells": [
  {
   "cell_type": "markdown",
   "metadata": {},
   "source": [
    "# In-Class Coding Lab: Files\n",
    "\n",
    "The goals of this lab are to help you to understand:\n",
    "\n",
    "- Reading data from a file all at once or one line at a time.\n",
    "- Searching for data in files\n",
    "- Parsing text data to numerical data.\n",
    "- How to build complex programs incrementally.\n",
    "\n",
    "## Average  Spam Confidence\n",
    "\n",
    "For this lab, we will write a program to read spam confidence headers from a mailbox file like `ICCL-mbox-tiny.txt` or `ICCL-mbox-small.txt`. These files contain raw email data, and in that data is a SPAM confidence number for each message:\n",
    "\n",
    "`X-DSPAM-Confidence:0.8475`\n",
    "\n",
    "Our goal will be to find each of these lines in the file, and extract the confidence number (In this case `0.8475`), with the end-goal of calculating the average SPAM Confidence of all the emails in the file. \n",
    "\n",
    "### Reading from the file\n",
    "\n",
    "Let's start with some code to read the lines of text from `ICCL-mbox-tiny.txt`"
   ]
  },
  {
   "cell_type": "code",
   "execution_count": null,
   "metadata": {},
   "outputs": [],
   "source": [
    "filename = \"CCL-mbox-tiny.txt\"\n",
    "with open(filename, 'r') as f:\n",
    "    for line in f.readlines():\n",
    "        print(line.strip())        \n",
    "print(lines)"
   ]
  },
  {
   "cell_type": "markdown",
   "metadata": {},
   "source": [
    "### Now Try It\n",
    "\n",
    "Now modify the code above to print the number of lines in the file, instead of printing the lines themselves. You'll need to increment a variable each time through the loop and then print it out afterwards.\n",
    "\n",
    "There should be **332** lines.\n",
    "\n",
    "### Finding the SPAM Confidence\n",
    "\n",
    "Next, we'll focus on only getting lines addressing `X-DSPAM-Confidence:`. We do this by including an `if` statement inside  the `for` loop.\n",
    "\n",
    "You need to edit line 4 of the code below to only print lines which begin with `X-DSPAM-Confidence:` There should be **5**"
   ]
  },
  {
   "cell_type": "code",
   "execution_count": null,
   "metadata": {},
   "outputs": [],
   "source": [
    "filename = \"ICCL-mbox-tiny.txt\"\n",
    "with open(filename, 'r') as f:\n",
    "    for line in f.readlines():\n",
    "        if TODO: \n",
    "            print(line.strip())        \n"
   ]
  },
  {
   "cell_type": "markdown",
   "metadata": {},
   "source": [
    "### Parsing out the confidence value\n",
    "\n",
    "The final step is to figure out how to parse out the confidence value from the string. \n",
    "For example for the given line: `X-DSPAM-Confidence: 0.8475` we need to get the value `0.8475` as a float.\n",
    "\n",
    "The  strategy here is to replace `X-DSPAM-Confidence:` with an empty string, then calling the `float()` function to convert the results to a float. \n",
    "\n",
    "### Now Try It\n"
   ]
  },
  {
   "cell_type": "code",
   "execution_count": null,
   "metadata": {},
   "outputs": [],
   "source": [
    "line = 'X-DSPAM-Confidence: 0.8475'\n",
    "line = float\n",
    "number =\n",
    "print (number)"
   ]
  },
  {
   "cell_type": "markdown",
   "metadata": {},
   "source": [
    "### Putting it all together\n",
    "\n",
    "Now that we have all the working parts, let's put it all together.\n",
    "\n",
    "```\n",
    "1.  line count is 0\n",
    "2.  total confidence is 0\n",
    "3.  open mailbox file\n",
    "4.  for each line in file\n",
    "5.  if line starts with `X-DSPAM-Confidence:`\n",
    "6.     remove `X-DSPAM-Confidence:` from line and convert to float\n",
    "7.     increment line count\n",
    "8.     add spam confidence to total confidence\n",
    "9.  print average confidence (total confidence/line count)\n",
    "```"
   ]
  },
  {
   "cell_type": "code",
   "execution_count": 3,
   "metadata": {},
   "outputs": [
    {
     "ename": "NameError",
     "evalue": "name 'total_confifdence' is not defined",
     "output_type": "error",
     "traceback": [
      "\u001b[0;31m---------------------------------------------------------------------------\u001b[0m",
      "\u001b[0;31mNameError\u001b[0m                                 Traceback (most recent call last)",
      "\u001b[0;32m<ipython-input-3-2223b6e65aa1>\u001b[0m in \u001b[0;36m<module>\u001b[0;34m\u001b[0m\n\u001b[1;32m     10\u001b[0m                 \u001b[0mcount\u001b[0m \u001b[0;34m=\u001b[0m \u001b[0mcount\u001b[0m \u001b[0;34m+\u001b[0m\u001b[0;36m1\u001b[0m\u001b[0;34m\u001b[0m\u001b[0m\n\u001b[1;32m     11\u001b[0m                 \u001b[0mtotal_confidence\u001b[0m \u001b[0;34m=\u001b[0m \u001b[0mtotal_confidence\u001b[0m \u001b[0;34m+\u001b[0m \u001b[0mconfidence\u001b[0m\u001b[0;34m\u001b[0m\u001b[0m\n\u001b[0;32m---> 12\u001b[0;31m                 \u001b[0mprint\u001b[0m\u001b[0;34m(\u001b[0m\u001b[0;34m\"the average X-DSPAM-Confidence:: %.4f\"\u001b[0m \u001b[0;34m%\u001b[0m \u001b[0;34m(\u001b[0m\u001b[0mtotal_confifdence\u001b[0m\u001b[0;34m/\u001b[0m\u001b[0mcount\u001b[0m\u001b[0;34m)\u001b[0m\u001b[0;34m)\u001b[0m\u001b[0;34m\u001b[0m\u001b[0m\n\u001b[0m\u001b[1;32m     13\u001b[0m \u001b[0;34m\u001b[0m\u001b[0m\n",
      "\u001b[0;31mNameError\u001b[0m: name 'total_confifdence' is not defined"
     ]
    }
   ],
   "source": [
    "count = 0\n",
    "total_confidence = 0\n",
    "filename = \"CCL-mbox-tiny.txt\"\n",
    "\n",
    "with open (filename, 'r') as f:\n",
    "        for line in f.readlines():\n",
    "            if line.startswith(\"X-DSPAM-Confidence: \"):\n",
    "                confidence= line.strip(\"X-DSPAM-Confidence: \")\n",
    "                confidence = float(confidence)\n",
    "                count = count +1\n",
    "                total_confidence = total_confidence + confidence\n",
    "                print(\"the average X-DSPAM-Confidence:: %.4f\" % (total_confifdence/count))\n",
    "                "
   ]
  },
  {
   "cell_type": "markdown",
   "metadata": {},
   "source": [
    "When you have the program working, try it with `ICCL-mbox-short.txt` mailbox file, too."
   ]
  }
 ],
 "metadata": {
  "anaconda-cloud": {},
  "kernelspec": {
   "display_name": "Python 3",
   "language": "python",
   "name": "python3"
  },
  "language_info": {
   "codemirror_mode": {
    "name": "ipython",
    "version": 3
   },
   "file_extension": ".py",
   "mimetype": "text/x-python",
   "name": "python",
   "nbconvert_exporter": "python",
   "pygments_lexer": "ipython3",
   "version": "3.6.6"
  }
 },
 "nbformat": 4,
 "nbformat_minor": 1
}
